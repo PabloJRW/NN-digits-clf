{
  "nbformat": 4,
  "nbformat_minor": 0,
  "metadata": {
    "colab": {
      "provenance": [],
      "authorship_tag": "ABX9TyM5WbCnpq7T3G+XvAlty539",
      "include_colab_link": true
    },
    "kernelspec": {
      "name": "python3",
      "display_name": "Python 3"
    },
    "language_info": {
      "name": "python"
    }
  },
  "cells": [
    {
      "cell_type": "markdown",
      "metadata": {
        "id": "view-in-github",
        "colab_type": "text"
      },
      "source": [
        "<a href=\"https://colab.research.google.com/github/PabloJRW/NN-digits-clf/blob/main/NN_Digits_Classifier.ipynb\" target=\"_parent\"><img src=\"https://colab.research.google.com/assets/colab-badge.svg\" alt=\"Open In Colab\"/></a>"
      ]
    },
    {
      "cell_type": "code",
      "execution_count": 55,
      "metadata": {
        "id": "Vrj7mXkoA2MW"
      },
      "outputs": [],
      "source": [
        "import numpy as np\n",
        "import pandas as pd\n",
        "import matplotlib.pyplot as plt\n",
        "import tensorflow as tf\n",
        "from tensorflow import keras"
      ]
    },
    {
      "cell_type": "code",
      "source": [
        "# Network and training parameters\n",
        "EPOCHS = 50\n",
        "BATCH_SIZE = 128\n",
        "VERBOSE = 1\n",
        "NB_CLASSES = 10\n",
        "N_HIDDEN = 128\n",
        "VALIDATION_SPLIT = 0.2\n",
        "DROPOUT = 0.3\n",
        "\n",
        "# Loading NMIST dataset\n",
        "mnist = keras.datasets.mnist\n",
        "(X_train, y_train),(X_test, y_test) = mnist.load_data()\n",
        "\n",
        "# X_train is 60000 rows of 28 x 28; we --> reshape it to 60000 x 786\n",
        "RESHAPED = 784\n",
        "\n",
        "X_train = X_train.reshape(60000, RESHAPED)\n",
        "X_test = X_test.reshape(10000, RESHAPED)\n",
        "X_train = X_train.astype('float32')\n",
        "X_test = X_test.astype('float32')\n",
        "\n",
        "\n",
        "X_train = X_train / 255\n",
        "X_test = X_test / 255\n",
        "print(X_train.shape[0], 'train samples')\n",
        "print(X_test.shape[0], 'test samples')\n",
        "\n",
        "# One-hot representation of the labels\n",
        "y_train = tf.keras.utils.to_categorical(y_train, NB_CLASSES)\n",
        "y_test = tf.keras.utils.to_categorical(y_test, NB_CLASSES)"
      ],
      "metadata": {
        "colab": {
          "base_uri": "https://localhost:8080/"
        },
        "id": "ubA_GWH4BAA8",
        "outputId": "a808cd75-a8a1-4c8c-9f9f-7689fec986c6"
      },
      "execution_count": 56,
      "outputs": [
        {
          "output_type": "stream",
          "name": "stdout",
          "text": [
            "60000 train samples\n",
            "10000 test samples\n"
          ]
        }
      ]
    },
    {
      "cell_type": "code",
      "source": [
        "# Build the model\n",
        "model = tf.keras.models.Sequential()\n",
        "model.add(keras.layers.Dense(N_HIDDEN, input_shape=(RESHAPED,), name='dense_layer', activation='relu'))\n",
        "model.add(keras.layers.Dropout(DROPOUT))\n",
        "model.add(keras.layers.Dense(N_HIDDEN, input_shape=(RESHAPED,), name='dense_layer_2', activation='relu'))\n",
        "model.add(keras.layers.Dropout(DROPOUT))\n",
        "model.add(keras.layers.Dense(NB_CLASSES, input_shape=(RESHAPED,), name='dense_layer_3', activation='softmax'))\n",
        "model.summary()"
      ],
      "metadata": {
        "id": "5qacfJ5yCKoi",
        "colab": {
          "base_uri": "https://localhost:8080/"
        },
        "outputId": "2be29f07-3f71-465a-9d76-d34e4013af36"
      },
      "execution_count": 57,
      "outputs": [
        {
          "output_type": "stream",
          "name": "stdout",
          "text": [
            "Model: \"sequential_7\"\n",
            "_________________________________________________________________\n",
            " Layer (type)                Output Shape              Param #   \n",
            "=================================================================\n",
            " dense_layer (Dense)         (None, 128)               100480    \n",
            "                                                                 \n",
            " dropout_14 (Dropout)        (None, 128)               0         \n",
            "                                                                 \n",
            " dense_layer_2 (Dense)       (None, 128)               16512     \n",
            "                                                                 \n",
            " dropout_15 (Dropout)        (None, 128)               0         \n",
            "                                                                 \n",
            " dense_layer_3 (Dense)       (None, 10)                1290      \n",
            "                                                                 \n",
            "=================================================================\n",
            "Total params: 118,282\n",
            "Trainable params: 118,282\n",
            "Non-trainable params: 0\n",
            "_________________________________________________________________\n"
          ]
        }
      ]
    },
    {
      "cell_type": "code",
      "source": [
        "# Compiling the model\n",
        "model.compile(optimizer='SGD',\n",
        "              loss='categorical_crossentropy',\n",
        "              metrics=['accuracy'])"
      ],
      "metadata": {
        "id": "W2Ni-paeEwyd"
      },
      "execution_count": 58,
      "outputs": []
    },
    {
      "cell_type": "code",
      "source": [
        "# Training the model \n",
        "history = model.fit(X_train, y_train,\n",
        "         batch_size=BATCH_SIZE,\n",
        "         epochs=EPOCHS,\n",
        "         verbose=VERBOSE,\n",
        "         validation_split=VALIDATION_SPLIT)"
      ],
      "metadata": {
        "colab": {
          "base_uri": "https://localhost:8080/"
        },
        "id": "vNpxTw06GKCl",
        "outputId": "78d2acee-1c36-4875-a7a9-7d7660eb66b9"
      },
      "execution_count": 59,
      "outputs": [
        {
          "output_type": "stream",
          "name": "stdout",
          "text": [
            "Epoch 1/50\n",
            "375/375 [==============================] - 3s 6ms/step - loss: 1.7688 - accuracy: 0.4361 - val_loss: 0.9594 - val_accuracy: 0.8137\n",
            "Epoch 2/50\n",
            "375/375 [==============================] - 2s 5ms/step - loss: 0.9407 - accuracy: 0.7157 - val_loss: 0.5407 - val_accuracy: 0.8731\n",
            "Epoch 3/50\n",
            "375/375 [==============================] - 2s 5ms/step - loss: 0.7068 - accuracy: 0.7858 - val_loss: 0.4281 - val_accuracy: 0.8888\n",
            "Epoch 4/50\n",
            "375/375 [==============================] - 2s 5ms/step - loss: 0.5957 - accuracy: 0.8196 - val_loss: 0.3737 - val_accuracy: 0.9008\n",
            "Epoch 5/50\n",
            "375/375 [==============================] - 2s 5ms/step - loss: 0.5380 - accuracy: 0.8395 - val_loss: 0.3414 - val_accuracy: 0.9067\n",
            "Epoch 6/50\n",
            "375/375 [==============================] - 2s 5ms/step - loss: 0.4919 - accuracy: 0.8530 - val_loss: 0.3165 - val_accuracy: 0.9119\n",
            "Epoch 7/50\n",
            "375/375 [==============================] - 2s 5ms/step - loss: 0.4587 - accuracy: 0.8657 - val_loss: 0.2974 - val_accuracy: 0.9172\n",
            "Epoch 8/50\n",
            "375/375 [==============================] - 2s 5ms/step - loss: 0.4372 - accuracy: 0.8712 - val_loss: 0.2827 - val_accuracy: 0.9188\n",
            "Epoch 9/50\n",
            "375/375 [==============================] - 2s 5ms/step - loss: 0.4143 - accuracy: 0.8774 - val_loss: 0.2711 - val_accuracy: 0.9235\n",
            "Epoch 10/50\n",
            "375/375 [==============================] - 3s 8ms/step - loss: 0.3931 - accuracy: 0.8850 - val_loss: 0.2604 - val_accuracy: 0.9251\n",
            "Epoch 11/50\n",
            "375/375 [==============================] - 2s 6ms/step - loss: 0.3781 - accuracy: 0.8889 - val_loss: 0.2492 - val_accuracy: 0.9293\n",
            "Epoch 12/50\n",
            "375/375 [==============================] - 3s 7ms/step - loss: 0.3632 - accuracy: 0.8948 - val_loss: 0.2428 - val_accuracy: 0.9308\n",
            "Epoch 13/50\n",
            "375/375 [==============================] - 3s 9ms/step - loss: 0.3515 - accuracy: 0.8978 - val_loss: 0.2343 - val_accuracy: 0.9324\n",
            "Epoch 14/50\n",
            "375/375 [==============================] - 3s 8ms/step - loss: 0.3402 - accuracy: 0.9012 - val_loss: 0.2257 - val_accuracy: 0.9353\n",
            "Epoch 15/50\n",
            "375/375 [==============================] - 2s 6ms/step - loss: 0.3275 - accuracy: 0.9039 - val_loss: 0.2204 - val_accuracy: 0.9363\n",
            "Epoch 16/50\n",
            "375/375 [==============================] - 3s 8ms/step - loss: 0.3208 - accuracy: 0.9057 - val_loss: 0.2147 - val_accuracy: 0.9387\n",
            "Epoch 17/50\n",
            "375/375 [==============================] - 3s 7ms/step - loss: 0.3125 - accuracy: 0.9107 - val_loss: 0.2090 - val_accuracy: 0.9392\n",
            "Epoch 18/50\n",
            "375/375 [==============================] - 3s 7ms/step - loss: 0.3030 - accuracy: 0.9104 - val_loss: 0.2031 - val_accuracy: 0.9417\n",
            "Epoch 19/50\n",
            "375/375 [==============================] - 4s 10ms/step - loss: 0.2957 - accuracy: 0.9127 - val_loss: 0.1984 - val_accuracy: 0.9424\n",
            "Epoch 20/50\n",
            "375/375 [==============================] - 2s 6ms/step - loss: 0.2905 - accuracy: 0.9146 - val_loss: 0.1951 - val_accuracy: 0.9438\n",
            "Epoch 21/50\n",
            "375/375 [==============================] - 2s 5ms/step - loss: 0.2817 - accuracy: 0.9173 - val_loss: 0.1901 - val_accuracy: 0.9453\n",
            "Epoch 22/50\n",
            "375/375 [==============================] - 2s 5ms/step - loss: 0.2777 - accuracy: 0.9183 - val_loss: 0.1864 - val_accuracy: 0.9466\n",
            "Epoch 23/50\n",
            "375/375 [==============================] - 2s 5ms/step - loss: 0.2742 - accuracy: 0.9211 - val_loss: 0.1827 - val_accuracy: 0.9473\n",
            "Epoch 24/50\n",
            "375/375 [==============================] - 2s 5ms/step - loss: 0.2671 - accuracy: 0.9219 - val_loss: 0.1788 - val_accuracy: 0.9482\n",
            "Epoch 25/50\n",
            "375/375 [==============================] - 2s 5ms/step - loss: 0.2587 - accuracy: 0.9250 - val_loss: 0.1754 - val_accuracy: 0.9495\n",
            "Epoch 26/50\n",
            "375/375 [==============================] - 2s 6ms/step - loss: 0.2561 - accuracy: 0.9248 - val_loss: 0.1726 - val_accuracy: 0.9506\n",
            "Epoch 27/50\n",
            "375/375 [==============================] - 2s 6ms/step - loss: 0.2535 - accuracy: 0.9265 - val_loss: 0.1697 - val_accuracy: 0.9511\n",
            "Epoch 28/50\n",
            "375/375 [==============================] - 2s 5ms/step - loss: 0.2464 - accuracy: 0.9277 - val_loss: 0.1673 - val_accuracy: 0.9514\n",
            "Epoch 29/50\n",
            "375/375 [==============================] - 2s 5ms/step - loss: 0.2423 - accuracy: 0.9286 - val_loss: 0.1644 - val_accuracy: 0.9524\n",
            "Epoch 30/50\n",
            "375/375 [==============================] - 2s 5ms/step - loss: 0.2393 - accuracy: 0.9301 - val_loss: 0.1624 - val_accuracy: 0.9528\n",
            "Epoch 31/50\n",
            "375/375 [==============================] - 3s 7ms/step - loss: 0.2357 - accuracy: 0.9305 - val_loss: 0.1592 - val_accuracy: 0.9538\n",
            "Epoch 32/50\n",
            "375/375 [==============================] - 3s 7ms/step - loss: 0.2303 - accuracy: 0.9323 - val_loss: 0.1571 - val_accuracy: 0.9540\n",
            "Epoch 33/50\n",
            "375/375 [==============================] - 3s 7ms/step - loss: 0.2263 - accuracy: 0.9338 - val_loss: 0.1551 - val_accuracy: 0.9549\n",
            "Epoch 34/50\n",
            "375/375 [==============================] - 2s 5ms/step - loss: 0.2221 - accuracy: 0.9346 - val_loss: 0.1524 - val_accuracy: 0.9565\n",
            "Epoch 35/50\n",
            "375/375 [==============================] - 2s 5ms/step - loss: 0.2215 - accuracy: 0.9348 - val_loss: 0.1510 - val_accuracy: 0.9565\n",
            "Epoch 36/50\n",
            "375/375 [==============================] - 2s 5ms/step - loss: 0.2185 - accuracy: 0.9360 - val_loss: 0.1486 - val_accuracy: 0.9578\n",
            "Epoch 37/50\n",
            "375/375 [==============================] - 2s 5ms/step - loss: 0.2142 - accuracy: 0.9369 - val_loss: 0.1469 - val_accuracy: 0.9582\n",
            "Epoch 38/50\n",
            "375/375 [==============================] - 2s 5ms/step - loss: 0.2116 - accuracy: 0.9374 - val_loss: 0.1451 - val_accuracy: 0.9591\n",
            "Epoch 39/50\n",
            "375/375 [==============================] - 2s 5ms/step - loss: 0.2076 - accuracy: 0.9392 - val_loss: 0.1433 - val_accuracy: 0.9587\n",
            "Epoch 40/50\n",
            "375/375 [==============================] - 2s 5ms/step - loss: 0.2038 - accuracy: 0.9393 - val_loss: 0.1417 - val_accuracy: 0.9588\n",
            "Epoch 41/50\n",
            "375/375 [==============================] - 2s 5ms/step - loss: 0.2015 - accuracy: 0.9411 - val_loss: 0.1411 - val_accuracy: 0.9591\n",
            "Epoch 42/50\n",
            "375/375 [==============================] - 2s 5ms/step - loss: 0.2007 - accuracy: 0.9406 - val_loss: 0.1396 - val_accuracy: 0.9593\n",
            "Epoch 43/50\n",
            "375/375 [==============================] - 2s 5ms/step - loss: 0.1969 - accuracy: 0.9417 - val_loss: 0.1382 - val_accuracy: 0.9599\n",
            "Epoch 44/50\n",
            "375/375 [==============================] - 2s 6ms/step - loss: 0.1966 - accuracy: 0.9430 - val_loss: 0.1363 - val_accuracy: 0.9601\n",
            "Epoch 45/50\n",
            "375/375 [==============================] - 2s 6ms/step - loss: 0.1918 - accuracy: 0.9421 - val_loss: 0.1339 - val_accuracy: 0.9607\n",
            "Epoch 46/50\n",
            "375/375 [==============================] - 2s 6ms/step - loss: 0.1875 - accuracy: 0.9440 - val_loss: 0.1331 - val_accuracy: 0.9602\n",
            "Epoch 47/50\n",
            "375/375 [==============================] - 2s 5ms/step - loss: 0.1861 - accuracy: 0.9451 - val_loss: 0.1330 - val_accuracy: 0.9610\n",
            "Epoch 48/50\n",
            "375/375 [==============================] - 2s 5ms/step - loss: 0.1869 - accuracy: 0.9448 - val_loss: 0.1316 - val_accuracy: 0.9609\n",
            "Epoch 49/50\n",
            "375/375 [==============================] - 2s 5ms/step - loss: 0.1859 - accuracy: 0.9447 - val_loss: 0.1297 - val_accuracy: 0.9614\n",
            "Epoch 50/50\n",
            "375/375 [==============================] - 2s 5ms/step - loss: 0.1849 - accuracy: 0.9438 - val_loss: 0.1290 - val_accuracy: 0.9625\n"
          ]
        }
      ]
    },
    {
      "cell_type": "code",
      "source": [
        "# Evaluate the model\n",
        "test_loss, test_accuracy = model.evaluate(X_test, y_test)\n",
        "print('Test accuracy: ', test_accuracy)"
      ],
      "metadata": {
        "colab": {
          "base_uri": "https://localhost:8080/"
        },
        "id": "UKblTT69Gcgw",
        "outputId": "4c550a32-0b8f-4d5b-8146-3c5208522edb"
      },
      "execution_count": 60,
      "outputs": [
        {
          "output_type": "stream",
          "name": "stdout",
          "text": [
            "313/313 [==============================] - 1s 2ms/step - loss: 0.1235 - accuracy: 0.9628\n",
            "Test accuracy:  0.9628000259399414\n"
          ]
        }
      ]
    },
    {
      "cell_type": "code",
      "source": [
        "pd.DataFrame(history.history).plot(figsize=(12,6))\n",
        "plt.grid()\n",
        "plt.gca().set_ylim(0, 1)\n",
        "plt.show()"
      ],
      "metadata": {
        "id": "ebRiPHUxHwAa",
        "colab": {
          "base_uri": "https://localhost:8080/",
          "height": 378
        },
        "outputId": "67d0ce88-89d8-4ad3-d2c4-a0cdacd9e41e"
      },
      "execution_count": 61,
      "outputs": [
        {
          "output_type": "display_data",
          "data": {
            "text/plain": [
              "<Figure size 864x432 with 1 Axes>"
            ],
            "image/png": "[encoded data removed]"
          },
          "metadata": {
            "needs_background": "light"
          }
        }
      ]
    },
    {
      "cell_type": "code",
      "source": [
        "# Saving the model\n",
        "model.save(\"digits_clf.h5\")"
      ],
      "metadata": {
        "id": "rHdtg4CavqWI"
      },
      "execution_count": 61,
      "outputs": []
    },
    {
      "cell_type": "code",
      "source": [],
      "metadata": {
        "id": "bM7dEZiFylXj"
      },
      "execution_count": 61,
      "outputs": []
    }
  ]
}